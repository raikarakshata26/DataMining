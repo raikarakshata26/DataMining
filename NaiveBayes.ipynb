{
 "cells": [
  {
   "cell_type": "code",
   "execution_count": 22,
   "id": "01488c9e",
   "metadata": {},
   "outputs": [],
   "source": [
    "import re\n",
    "import pandas as pd\n",
    "from nltk.corpus import stopwords"
   ]
  },
  {
   "cell_type": "code",
   "execution_count": 23,
   "id": "140d6d3d",
   "metadata": {},
   "outputs": [],
   "source": [
    "# Ref.: https://stackoverflow.com/questions/5552555/unicodedecodeerror-invalid-continuation-byte\n",
    "df = pd.read_csv(\"rt_reviews.csv\", encoding=\"latin-1\")"
   ]
  },
  {
   "cell_type": "code",
   "execution_count": 24,
   "id": "ed67f441",
   "metadata": {},
   "outputs": [
    {
     "data": {
      "text/html": [
       "<div>\n",
       "<style scoped>\n",
       "    .dataframe tbody tr th:only-of-type {\n",
       "        vertical-align: middle;\n",
       "    }\n",
       "\n",
       "    .dataframe tbody tr th {\n",
       "        vertical-align: top;\n",
       "    }\n",
       "\n",
       "    .dataframe thead th {\n",
       "        text-align: right;\n",
       "    }\n",
       "</style>\n",
       "<table border=\"1\" class=\"dataframe\">\n",
       "  <thead>\n",
       "    <tr style=\"text-align: right;\">\n",
       "      <th></th>\n",
       "      <th>Freshness</th>\n",
       "      <th>Review</th>\n",
       "    </tr>\n",
       "  </thead>\n",
       "  <tbody>\n",
       "    <tr>\n",
       "      <th>0</th>\n",
       "      <td>fresh</td>\n",
       "      <td>Manakamana doesn't answer any questions, yet ...</td>\n",
       "    </tr>\n",
       "    <tr>\n",
       "      <th>1</th>\n",
       "      <td>fresh</td>\n",
       "      <td>Wilfully offensive and powered by a chest-thu...</td>\n",
       "    </tr>\n",
       "    <tr>\n",
       "      <th>2</th>\n",
       "      <td>rotten</td>\n",
       "      <td>It would be difficult to imagine material mor...</td>\n",
       "    </tr>\n",
       "    <tr>\n",
       "      <th>3</th>\n",
       "      <td>rotten</td>\n",
       "      <td>Despite the gusto its star brings to the role...</td>\n",
       "    </tr>\n",
       "    <tr>\n",
       "      <th>4</th>\n",
       "      <td>rotten</td>\n",
       "      <td>If there was a good idea at the core of this ...</td>\n",
       "    </tr>\n",
       "  </tbody>\n",
       "</table>\n",
       "</div>"
      ],
      "text/plain": [
       "  Freshness                                             Review\n",
       "0     fresh   Manakamana doesn't answer any questions, yet ...\n",
       "1     fresh   Wilfully offensive and powered by a chest-thu...\n",
       "2    rotten   It would be difficult to imagine material mor...\n",
       "3    rotten   Despite the gusto its star brings to the role...\n",
       "4    rotten   If there was a good idea at the core of this ..."
      ]
     },
     "execution_count": 24,
     "metadata": {},
     "output_type": "execute_result"
    }
   ],
   "source": [
    "df.head()"
   ]
  },
  {
   "cell_type": "markdown",
   "id": "ec1046f4",
   "metadata": {},
   "source": [
    "### Preprocessing the Review"
   ]
  },
  {
   "cell_type": "code",
   "execution_count": 25,
   "id": "c3f0bddf",
   "metadata": {},
   "outputs": [],
   "source": [
    "# Stripping leading and trailing empty space characters\n",
    "# Converting the text to lower case letters\n",
    "df[\"preprocessed_review\"] = df[\"Review\"].apply(lambda x: x.strip().lower())"
   ]
  },
  {
   "cell_type": "code",
   "execution_count": 27,
   "id": "ece97ae2",
   "metadata": {},
   "outputs": [],
   "source": [
    "# # Ref.: https://stackoverflow.com/questions/19790188/expanding-english-language-contractions-in-python\n",
    "# contractions = { \n",
    "#     \"ain't\": \"am not\",\n",
    "#     \"aren't\": \"are not\",\n",
    "#     \"can't\": \"cannot\",\n",
    "#     \"can't've\": \"cannot have\",\n",
    "#     \"'cause\": \"because\",\n",
    "#     \"could've\": \"could have\",\n",
    "#     \"couldn't\": \"could not\",\n",
    "#     \"couldn't've\": \"could not have\",\n",
    "#     \"didn't\": \"did not\",\n",
    "#     \"doesn't\": \"does not\",\n",
    "#     \"don't\": \"do not\",\n",
    "#     \"hadn't\": \"had not\",\n",
    "#     \"hadn't've\": \"had not have\",\n",
    "#     \"hasn't\": \"has not\",\n",
    "#     \"haven't\": \"have not\",\n",
    "#     \"he'd\": \"he had\",\n",
    "#     \"he'd've\": \"he would have\",\n",
    "#     \"he'll\": \"he will\",\n",
    "#     \"he'll've\": \"he will have\",\n",
    "#     \"he's\": \"he has\",\n",
    "#     \"how'd\": \"how did\",\n",
    "#     \"how'd'y\": \"how do you\",\n",
    "#     \"how'll\": \"how will\",\n",
    "#     \"how's\": \"how has\",\n",
    "#     \"I'd\": \"I had\",\n",
    "#     \"I'd've\": \"I would have\",\n",
    "#     \"I'll\": \"I will\",\n",
    "#     \"I'll've\": \"I will have\",\n",
    "#     \"I'm\": \"I am\",\n",
    "#     \"I've\": \"I have\",\n",
    "#     \"isn't\": \"is not\",\n",
    "#     \"it'd\": \"it would\",\n",
    "#     \"it'd've\": \"it would have\",\n",
    "#     \"it'll\": \"it will\",\n",
    "#     \"it'll've\": \"it will have\",\n",
    "#     \"it's\": \"it is\",\n",
    "#     \"let's\": \"let us\",\n",
    "#     \"ma'am\": \"madam\",\n",
    "#     \"mayn't\": \"may not\",\n",
    "#     \"might've\": \"might have\",\n",
    "#     \"mightn't\": \"might not\",\n",
    "#     \"mightn't've\": \"might not have\",\n",
    "#     \"must've\": \"must have\",\n",
    "#     \"mustn't\": \"must not\",\n",
    "#     \"mustn't've\": \"must not have\",\n",
    "#     \"needn't\": \"need not\",\n",
    "#     \"needn't've\": \"need not have\",\n",
    "#     \"o'clock\": \"of the clock\",\n",
    "#     \"oughtn't\": \"ought not\",\n",
    "#     \"oughtn't've\": \"ought not have\",\n",
    "#     \"shan't\": \"shall not\",\n",
    "#     \"sha'n't\": \"shall not\",\n",
    "#     \"shan't've\": \"shall not have\",\n",
    "#     \"she'd\": \"she would\",\n",
    "#     \"she'd've\": \"she would have\",\n",
    "#     \"she'll\": \"she will\",\n",
    "#     \"she'll've\": \"she will have\",\n",
    "#     \"she's\": \"she is\",\n",
    "#     \"should've\": \"should have\",\n",
    "#     \"shouldn't\": \"should not\",\n",
    "#     \"shouldn't've\": \"should not have\",\n",
    "#     \"so've\": \"so have\",\n",
    "#     \"so's\": \"so is\",\n",
    "#     \"that'd\": \"that would\",\n",
    "#     \"that'd've\": \"that would have\",\n",
    "#     \"that's\": \"that is\",\n",
    "#     \"there'd\": \"there would\",\n",
    "#     \"there'd've\": \"there would have\",\n",
    "#     \"there's\": \"there is\",\n",
    "#     \"they'd\": \"they had\",\n",
    "#     \"they'd've\": \"they would have\",\n",
    "#     \"they'll\": \"they will\",\n",
    "#     \"they'll've\": \"they will have\",\n",
    "#     \"they're\": \"they are\",\n",
    "#     \"they've\": \"they have\",\n",
    "#     \"to've\": \"to have\",\n",
    "#     \"wasn't\": \"was not\",\n",
    "#     \"we'd\": \"we would\",\n",
    "#     \"we'd've\": \"we would have\",\n",
    "#     \"we'll\": \"we will\",\n",
    "#     \"we'll've\": \"we will have\",\n",
    "#     \"we're\": \"we are\",\n",
    "#     \"we've\": \"we have\",\n",
    "#     \"weren't\": \"were not\",\n",
    "#     \"what'll\": \"what will\",\n",
    "#     \"what'll've\": \"what will have\",\n",
    "#     \"what're\": \"what are\",\n",
    "#     \"what's\": \"what is\",\n",
    "#     \"what've\": \"what have\",\n",
    "#     \"when's\": \"when is\",\n",
    "#     \"when've\": \"when have\",\n",
    "#     \"where'd\": \"where did\",\n",
    "#     \"where's\": \"where is\",\n",
    "#     \"where've\": \"where have\",\n",
    "#     \"who'll\": \"who will\",\n",
    "#     \"who'll've\": \"who will have\",\n",
    "#     \"who's\": \"who is\",\n",
    "#     \"who've\": \"who have\",\n",
    "#     \"why's\": \"why is\",\n",
    "#     \"why've\": \"why have\",\n",
    "#     \"will've\": \"will have\",\n",
    "#     \"won't\": \"will not\",\n",
    "#     \"won't've\": \"will not have\",\n",
    "#     \"would've\": \"would have\",\n",
    "#     \"wouldn't\": \"would not\",\n",
    "#     \"wouldn't've\": \"would not have\",\n",
    "#     \"y'all\": \"you all\",\n",
    "#     \"y'all'd\": \"you all would\",\n",
    "#     \"y'all'd've\": \"you all would have\",\n",
    "#     \"y'all're\": \"you all are\",\n",
    "#     \"y'all've\": \"you all have\",\n",
    "#     \"you'd\": \"you would\",\n",
    "#     \"you'd've\": \"you would have\",\n",
    "#     \"you'll\": \"you will\",\n",
    "#     \"you'll've\": \"you will have\",\n",
    "#     \"you're\": \"you are\",\n",
    "#     \"you've\": \"you have\"}"
   ]
  },
  {
   "cell_type": "code",
   "execution_count": 28,
   "id": "89433176",
   "metadata": {},
   "outputs": [],
   "source": [
    "stop_words = set(stopwords.words('english'))"
   ]
  },
  {
   "cell_type": "code",
   "execution_count": 29,
   "id": "595a6b7d",
   "metadata": {},
   "outputs": [],
   "source": [
    "df[\"preprocessed_review\"] = df[\"preprocessed_review\"].apply(lambda x: \" \".join([word for word in x.split() if word not in stop_words]))"
   ]
  },
  {
   "cell_type": "code",
   "execution_count": 30,
   "id": "3e994a78",
   "metadata": {},
   "outputs": [
    {
     "data": {
      "text/plain": [
       "0         manakamana answer questions, yet makes point: ...\n",
       "1         wilfully offensive powered chest-thumping mach...\n",
       "2         would difficult imagine material wrong spade l...\n",
       "3         despite gusto star brings role, hard ride shot...\n",
       "4         good idea core film, buried unsightly pile fla...\n",
       "                                ...                        \n",
       "479995    zemeckis seems unable admit motion capture ani...\n",
       "479996    movies like kids right -- beautifully written,...\n",
       "479997    film-savvy audiences soon catch onto winterbot...\n",
       "479998                              odd yet enjoyable film.\n",
       "479999    animation studio, even beloved pixar, quite re...\n",
       "Name: preprocessed_review, Length: 480000, dtype: object"
      ]
     },
     "execution_count": 30,
     "metadata": {},
     "output_type": "execute_result"
    }
   ],
   "source": [
    "df[\"preprocessed_review\"]"
   ]
  },
  {
   "cell_type": "code",
   "execution_count": 31,
   "id": "560ea3f3",
   "metadata": {},
   "outputs": [],
   "source": [
    "# Using regluar expression to select only alphabet characters into the Dataset\n",
    "\n",
    "df[\"preprocessed_review\"] = df[\"preprocessed_review\"].apply(lambda x: \" \".join(re.findall(r'[a-z]+', x)))"
   ]
  },
  {
   "cell_type": "code",
   "execution_count": 32,
   "id": "e64e346d",
   "metadata": {},
   "outputs": [
    {
     "data": {
      "text/plain": [
       "0         manakamana answer questions yet makes point ne...\n",
       "1         wilfully offensive powered chest thumping mach...\n",
       "2         would difficult imagine material wrong spade l...\n",
       "3         despite gusto star brings role hard ride shotg...\n",
       "4         good idea core film buried unsightly pile flat...\n",
       "                                ...                        \n",
       "479995    zemeckis seems unable admit motion capture ani...\n",
       "479996    movies like kids right beautifully written imp...\n",
       "479997    film savvy audiences soon catch onto winterbot...\n",
       "479998                               odd yet enjoyable film\n",
       "479999    animation studio even beloved pixar quite repl...\n",
       "Name: preprocessed_review, Length: 480000, dtype: object"
      ]
     },
     "execution_count": 32,
     "metadata": {},
     "output_type": "execute_result"
    }
   ],
   "source": [
    "df[\"preprocessed_review\"]"
   ]
  },
  {
   "cell_type": "code",
   "execution_count": 33,
   "id": "802c5546",
   "metadata": {},
   "outputs": [
    {
     "data": {
      "text/html": [
       "<div>\n",
       "<style scoped>\n",
       "    .dataframe tbody tr th:only-of-type {\n",
       "        vertical-align: middle;\n",
       "    }\n",
       "\n",
       "    .dataframe tbody tr th {\n",
       "        vertical-align: top;\n",
       "    }\n",
       "\n",
       "    .dataframe thead th {\n",
       "        text-align: right;\n",
       "    }\n",
       "</style>\n",
       "<table border=\"1\" class=\"dataframe\">\n",
       "  <thead>\n",
       "    <tr style=\"text-align: right;\">\n",
       "      <th></th>\n",
       "      <th>Freshness</th>\n",
       "      <th>Review</th>\n",
       "      <th>preprocessed_review</th>\n",
       "    </tr>\n",
       "  </thead>\n",
       "  <tbody>\n",
       "    <tr>\n",
       "      <th>0</th>\n",
       "      <td>fresh</td>\n",
       "      <td>Manakamana doesn't answer any questions, yet ...</td>\n",
       "      <td>manakamana answer questions yet makes point ne...</td>\n",
       "    </tr>\n",
       "    <tr>\n",
       "      <th>1</th>\n",
       "      <td>fresh</td>\n",
       "      <td>Wilfully offensive and powered by a chest-thu...</td>\n",
       "      <td>wilfully offensive powered chest thumping mach...</td>\n",
       "    </tr>\n",
       "    <tr>\n",
       "      <th>2</th>\n",
       "      <td>rotten</td>\n",
       "      <td>It would be difficult to imagine material mor...</td>\n",
       "      <td>would difficult imagine material wrong spade l...</td>\n",
       "    </tr>\n",
       "    <tr>\n",
       "      <th>3</th>\n",
       "      <td>rotten</td>\n",
       "      <td>Despite the gusto its star brings to the role...</td>\n",
       "      <td>despite gusto star brings role hard ride shotg...</td>\n",
       "    </tr>\n",
       "    <tr>\n",
       "      <th>4</th>\n",
       "      <td>rotten</td>\n",
       "      <td>If there was a good idea at the core of this ...</td>\n",
       "      <td>good idea core film buried unsightly pile flat...</td>\n",
       "    </tr>\n",
       "  </tbody>\n",
       "</table>\n",
       "</div>"
      ],
      "text/plain": [
       "  Freshness                                             Review  \\\n",
       "0     fresh   Manakamana doesn't answer any questions, yet ...   \n",
       "1     fresh   Wilfully offensive and powered by a chest-thu...   \n",
       "2    rotten   It would be difficult to imagine material mor...   \n",
       "3    rotten   Despite the gusto its star brings to the role...   \n",
       "4    rotten   If there was a good idea at the core of this ...   \n",
       "\n",
       "                                 preprocessed_review  \n",
       "0  manakamana answer questions yet makes point ne...  \n",
       "1  wilfully offensive powered chest thumping mach...  \n",
       "2  would difficult imagine material wrong spade l...  \n",
       "3  despite gusto star brings role hard ride shotg...  \n",
       "4  good idea core film buried unsightly pile flat...  "
      ]
     },
     "execution_count": 33,
     "metadata": {},
     "output_type": "execute_result"
    }
   ],
   "source": [
    "df.head()"
   ]
  },
  {
   "cell_type": "code",
   "execution_count": 38,
   "id": "61b83e0d",
   "metadata": {},
   "outputs": [
    {
     "data": {
      "text/plain": [
       "(480000, {'fresh': 240000, 'rotten': 240000})"
      ]
     },
     "execution_count": 38,
     "metadata": {},
     "output_type": "execute_result"
    }
   ],
   "source": [
    "total_samples = len(df)\n",
    "\n",
    "class_counts = dict(df[\"Freshness\"].value_counts())\n",
    "\n",
    "total_samples, class_counts"
   ]
  },
  {
   "cell_type": "code",
   "execution_count": 40,
   "id": "b8fd44fe",
   "metadata": {},
   "outputs": [],
   "source": [
    "class_probabilities = {k:v/total_samples for k, v in class_counts.items()}"
   ]
  },
  {
   "cell_type": "code",
   "execution_count": 41,
   "id": "7ab8a3e7",
   "metadata": {},
   "outputs": [
    {
     "data": {
      "text/plain": [
       "{'fresh': 0.5, 'rotten': 0.5}"
      ]
     },
     "execution_count": 41,
     "metadata": {},
     "output_type": "execute_result"
    }
   ],
   "source": [
    "class_probabilities"
   ]
  },
  {
   "cell_type": "code",
   "execution_count": 44,
   "id": "de3c13eb",
   "metadata": {},
   "outputs": [],
   "source": [
    "from tqdm import tqdm\n",
    "\n",
    "unique_words = [df.loc[i, \"preprocessed_review\"].split() for i in range(len(df))]"
   ]
  },
  {
   "cell_type": "code",
   "execution_count": 74,
   "id": "a486e71b",
   "metadata": {},
   "outputs": [
    {
     "name": "stderr",
     "output_type": "stream",
     "text": [
      "100%|██████████| 10000/10000 [00:13<00:00, 733.82it/s]\n"
     ]
    }
   ],
   "source": [
    "fresh_class_words = {}\n",
    "rotten_class_words = {}\n",
    "\n",
    "fresh_word_count = 0\n",
    "rotten_word_count = 0\n",
    "\n",
    "unique_words = []\n",
    "\n",
    "\n",
    "for i in tqdm(range(10000)):\n",
    "    review = df.loc[i, \"preprocessed_review\"]\n",
    "    \n",
    "    if df.loc[i, \"Freshness\"]==\"fresh\":\n",
    "        for word in review.split():\n",
    "            if word not in fresh_class_words.keys():\n",
    "                fresh_class_words[word] = 1\n",
    "            else:\n",
    "                fresh_class_words[word] += 1\n",
    "            \n",
    "            if word not in unique_words:\n",
    "                unique_words.append(word)\n",
    "                \n",
    "            fresh_word_count += 1\n",
    "    else:\n",
    "        for word in review.split():\n",
    "            if word not in rotten_class_words.keys():\n",
    "                rotten_class_words[word] = 1\n",
    "            else:\n",
    "                rotten_class_words[word] += 1\n",
    "            \n",
    "            if word not in unique_words:\n",
    "                unique_words.append(word)\n",
    "                \n",
    "            rotten_word_count += 1"
   ]
  },
  {
   "cell_type": "code",
   "execution_count": 75,
   "id": "d73003b0",
   "metadata": {},
   "outputs": [],
   "source": [
    "fresh_class_words = {k:(v+1/(fresh_word_count + len(unique_words))) for k, v in fresh_class_words.items()}"
   ]
  },
  {
   "cell_type": "code",
   "execution_count": 76,
   "id": "586097a3",
   "metadata": {},
   "outputs": [],
   "source": [
    "rotten_class_words = {k:(v+1/(rotten_word_count + len(unique_words))) for k, v in rotten_class_words.items()}"
   ]
  },
  {
   "cell_type": "code",
   "execution_count": 77,
   "id": "83d04101",
   "metadata": {},
   "outputs": [],
   "source": [
    "review = df.loc[10, \"preprocessed_review\"]"
   ]
  },
  {
   "cell_type": "code",
   "execution_count": 78,
   "id": "bc000dbd",
   "metadata": {},
   "outputs": [
    {
     "data": {
      "text/plain": [
       "'bell s debut feature addresses subject humor intelligence approaching issue performance enhancement every conceivable angle'"
      ]
     },
     "execution_count": 78,
     "metadata": {},
     "output_type": "execute_result"
    }
   ],
   "source": [
    "review"
   ]
  },
  {
   "cell_type": "code",
   "execution_count": 79,
   "id": "6eea2231",
   "metadata": {},
   "outputs": [],
   "source": [
    "import math\n",
    "\n",
    "fresh_prob = math.log(class_probabilities[\"fresh\"])\n",
    "\n",
    "rotten_prob = math.log(class_probabilities[\"rotten\"])"
   ]
  },
  {
   "cell_type": "code",
   "execution_count": 81,
   "id": "8812f05a",
   "metadata": {},
   "outputs": [],
   "source": [
    "for word in review.split():\n",
    "    if word in fresh_class_words:\n",
    "        fresh_prob += math.log(fresh_class_words[word])\n",
    "    else:\n",
    "        fresh_prob += math.log(1/(fresh_word_count + len(unique_words)))\n",
    "        \n",
    "    if word in rotten_class_words:\n",
    "        rotten_prob += math.log(rotten_class_words[word])\n",
    "    else:\n",
    "        rotten_prob += math.log(1/(rotten_word_count + len(unique_words)))"
   ]
  },
  {
   "cell_type": "code",
   "execution_count": 82,
   "id": "8052e163",
   "metadata": {},
   "outputs": [
    {
     "data": {
      "text/plain": [
       "(85.14628375923954, 13.806625558470662)"
      ]
     },
     "execution_count": 82,
     "metadata": {},
     "output_type": "execute_result"
    }
   ],
   "source": [
    "fresh_prob, rotten_prob"
   ]
  },
  {
   "cell_type": "code",
   "execution_count": 83,
   "id": "10507f49",
   "metadata": {},
   "outputs": [
    {
     "data": {
      "text/plain": [
       "Freshness                                                          fresh\n",
       "Review                  Bell's debut feature addresses its subject wi...\n",
       "preprocessed_review    bell s debut feature addresses subject humor i...\n",
       "Name: 10, dtype: object"
      ]
     },
     "execution_count": 83,
     "metadata": {},
     "output_type": "execute_result"
    }
   ],
   "source": [
    "df.loc[10]"
   ]
  },
  {
   "cell_type": "code",
   "execution_count": null,
   "id": "fd092b00",
   "metadata": {},
   "outputs": [],
   "source": []
  }
 ],
 "metadata": {
  "kernelspec": {
   "display_name": "Python 3 (ipykernel)",
   "language": "python",
   "name": "python3"
  },
  "language_info": {
   "codemirror_mode": {
    "name": "ipython",
    "version": 3
   },
   "file_extension": ".py",
   "mimetype": "text/x-python",
   "name": "python",
   "nbconvert_exporter": "python",
   "pygments_lexer": "ipython3",
   "version": "3.9.12"
  }
 },
 "nbformat": 4,
 "nbformat_minor": 5
}
